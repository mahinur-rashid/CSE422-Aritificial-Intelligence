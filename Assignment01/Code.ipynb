{
  "cells": [
    {
      "cell_type": "code",
      "execution_count": 5,
      "metadata": {
        "id": "3_fmTSIjuaFi"
      },
      "outputs": [],
      "source": [
        "file_in = open(\"input.txt\",\"r\")\n",
        "len2 = file_in.readlines()\n",
        "g_dict1= {}\n",
        "h_dict2= {}\n",
        "for i in len2:\n",
        " len1 = i.strip(\"\\n\").split(\" \")\n",
        " g_dict1[(len1[0],len1[1])] = []\n",
        " h_dict2[len1[0]] = int(len1[1])\n",
        " for i in range (0,len(len1),2):\n",
        "  g_dict1[(len1[0],len1[1])].append([len1[i],len1[i+1]])\n"
      ]
    },
    {
      "cell_type": "code",
      "execution_count": 6,
      "metadata": {
        "id": "b4nR3yPUunPA"
      },
      "outputs": [],
      "source": [
        "import heapq\n",
        "def astar_search(graph, heuristics, start, destination):\n",
        "    if start not in heuristics or destination not in heuristics:\n",
        "        return \"NO PATH FOUND\", \"Null\"\n",
        "\n",
        "    pq = []\n",
        "    heapq.heappush(pq, (heuristics[start], 0, start, []))\n",
        "    visited_arr = []\n",
        "    present_cost = {start: 0}\n",
        "    paths = {start: [start]}\n",
        "\n",
        "    while pq:\n",
        "\n",
        "        node = heapq.heappop(pq)\n",
        "        heuristic_value = node[0]\n",
        "        currentNode_cost = node[1]\n",
        "        current = node[2]\n",
        "        path = node[3]\n",
        "\n",
        "\n",
        "        if current == destination:\n",
        "            return path, currentNode_cost\n",
        "\n",
        "        if current in visited_arr:\n",
        "            continue\n",
        "\n",
        "        visited_arr.append(current)\n",
        "\n",
        "        for adj_node in graph.get((current, str(heuristics[current])), []):\n",
        "            adjNewNode = adj_node[0]\n",
        "            adj_cost = int(adj_node[1])\n",
        "            new_cost = currentNode_cost + adj_cost\n",
        "            if adjNewNode not in present_cost or new_cost < present_cost[adjNewNode]:\n",
        "                present_cost[adjNewNode] = new_cost\n",
        "                heapq.heappush(pq, (new_cost + heuristics[adjNewNode], new_cost, adjNewNode, path + [adjNewNode]))\n",
        "                paths[adjNewNode] = path + [adjNewNode]\n",
        "\n",
        "    return \"NO PATH FOUND\", \"Null\""
      ]
    },
    {
      "cell_type": "code",
      "execution_count": 7,
      "metadata": {
        "colab": {
          "base_uri": "https://localhost:8080/"
        },
        "id": "ZnVr1qp7uqYY",
        "outputId": "4400adeb-3376-4618-9278-5d24cc5553ee"
      },
      "outputs": [
        {
          "name": "stdout",
          "output_type": "stream",
          "text": [
            "Path: Arad -> Sibiu -> RimnicuVilcea -> Pitesti -> Bucharest\n",
            "Total distance: 418 km\n"
          ]
        }
      ],
      "source": [
        "start = input(\"Start node: \")\n",
        "dest = input(\"Destination: \")\n",
        "\n",
        "\n",
        "path, total_distance = astar_search(g_dict1, h_dict2, start, dest)\n",
        "\n",
        "if path == \"NO PATH FOUND\":\n",
        "    print(\"NO PATH FOUND\")\n",
        "else:\n",
        "    path_str = \"Path: \" + str(start) + \" -> \"\n",
        "    for node in path:\n",
        "      path_str += node + \" -> \"\n",
        "\n",
        "    path_str = path_str[:-4]\n",
        "    print(path_str)\n",
        "    print(f\"Total distance: {total_distance} km\")\n"
      ]
    }
  ],
  "metadata": {
    "colab": {
      "provenance": []
    },
    "kernelspec": {
      "display_name": "Python 3",
      "name": "python3"
    },
    "language_info": {
      "codemirror_mode": {
        "name": "ipython",
        "version": 3
      },
      "file_extension": ".py",
      "mimetype": "text/x-python",
      "name": "python",
      "nbconvert_exporter": "python",
      "pygments_lexer": "ipython3",
      "version": "3.12.6"
    }
  },
  "nbformat": 4,
  "nbformat_minor": 0
}
