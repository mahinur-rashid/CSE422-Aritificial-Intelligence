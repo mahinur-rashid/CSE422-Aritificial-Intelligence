{
 "cells": [
  {
   "cell_type": "code",
   "execution_count": 33,
   "metadata": {
    "id": "koYaYUl9kNnR"
   },
   "outputs": [],
   "source": [
    "import random\n",
    "\n",
    "def population_maker(courses, slots, plen):\n",
    "    population = []\n",
    "    for i in range(plen):\n",
    "        chromosome = ''\n",
    "        for j in range(plen):\n",
    "            gene = random.choice('01')\n",
    "            chromosome += gene\n",
    "        population.append(chromosome)\n",
    "\n",
    "    return population"
   ]
  },
  {
   "cell_type": "code",
   "execution_count": 34,
   "metadata": {
    "id": "qL7a9xKCkPKS"
   },
   "outputs": [],
   "source": [
    "def fitness_function(chromosome, coursesNo, timeslotsNo):\n",
    "    overlap_penalty = 0\n",
    "    consistency_penalty = 0\n",
    "    course_counts = [0] * coursesNo\n",
    "    timeslot_length = coursesNo\n",
    "\n",
    "\n",
    "    for t in range(timeslotsNo):\n",
    "        timeslot = chromosome[t * timeslot_length:(t + 1) * timeslot_length]\n",
    "        courses_scheduled = sum(int(bit) for bit in timeslot)\n",
    "        if courses_scheduled > 1:\n",
    "            overlap_penalty += (courses_scheduled - 1)\n",
    "        for c in range(coursesNo):\n",
    "            course_counts[c] += int(timeslot[c])\n",
    "\n",
    "    for count in course_counts:\n",
    "        if count != 1:\n",
    "            consistency_penalty += abs(count - 1)\n",
    "\n",
    "    total_penalty = overlap_penalty + consistency_penalty\n",
    "    fitness = -total_penalty\n",
    "    return fitness"
   ]
  },
  {
   "cell_type": "code",
   "execution_count": 35,
   "metadata": {
    "id": "0v1LhVQskVTP"
   },
   "outputs": [],
   "source": [
    "def select_parents(population):\n",
    "    return random.sample(population, 2)\n",
    "\n",
    "def single_point_crossover(parent1, parent2):\n",
    "    cross_point = random.randint(1, len(parent1) - 1)\n",
    "    c1 = parent1[:cross_point] + parent2[cross_point:]\n",
    "    c2 = parent2[:cross_point] + parent1[cross_point:]\n",
    "    return c1, c2"
   ]
  },
  {
   "cell_type": "code",
   "execution_count": 36,
   "metadata": {
    "id": "8HBxKktXkbmr"
   },
   "outputs": [],
   "source": [
    "def mutate(chromosome, mutation_rate):\n",
    "    mut_c_list = list(chromosome)\n",
    "\n",
    "    for i in range(len(chromosome)):\n",
    "        mutation_occurred = True if random.random() < mutation_rate else False\n",
    "        if mutation_occurred:\n",
    "            if mut_c_list[i] == '0':\n",
    "                mut_c_list[i] = '1'\n",
    "            else:\n",
    "                mut_c_list[i] = '0'\n",
    "\n",
    "    # Manually concatenate the list into a string\n",
    "    mut_chromosome = ''\n",
    "    for gene in mut_c_list:\n",
    "        mut_chromosome += gene\n",
    "\n",
    "    return mut_chromosome"
   ]
  },
  {
   "cell_type": "code",
   "execution_count": 37,
   "metadata": {
    "id": "RW3tMYVVklJY"
   },
   "outputs": [],
   "source": [
    "def genetic_algorithm(n_courses, n_timeslots, population_len, max_iterations, mutation_rate):\n",
    "    population = population_maker(n_courses, n_timeslots, population_len)\n",
    "    best_fitness = float('-inf')\n",
    "    best_chromosome = None\n",
    "\n",
    "    for _ in range(max_iterations):\n",
    "        population = population_maker(n_courses, n_timeslots, population_len)\n",
    "        if fitness_function(population[0], n_courses, n_timeslots) > best_fitness:\n",
    "            best_fitness = fitness_function(population[0], n_courses, n_timeslots)\n",
    "            best_chromosome = population[0]\n",
    "\n",
    "        new_population = []\n",
    "        while len(new_population) < population_len:\n",
    "            parent1, parent2 = select_parents(population)\n",
    "            child1, child2 = single_point_crossover(parent1, parent2)\n",
    "            child1 = mutate(child1, mutation_rate)\n",
    "            child2 = mutate(child2, mutation_rate)\n",
    "            new_population.extend([child1, child2])\n",
    "\n",
    "        population = new_population[:population_len]\n",
    "\n",
    "    return best_chromosome, best_fitness"
   ]
  },
  {
   "cell_type": "code",
   "execution_count": 38,
   "metadata": {
    "colab": {
     "base_uri": "https://localhost:8080/"
    },
    "id": "ZDyLRaspkzVb",
    "outputId": "6078e823-0677-4cc6-eb75-51196473e3de"
   },
   "outputs": [
    {
     "name": "stdout",
     "output_type": "stream",
     "text": [
      "Best Schedule: 001100101\n",
      "Best Fitness: -4\n"
     ]
    }
   ],
   "source": [
    "def main_genetic_algorithm():\n",
    "    file_in = open(\"input.txt\",\"r\")\n",
    "    line1 = file_in.readlines()\n",
    "    XYZ = line1[0].strip(\"\\n\").split(\" \")\n",
    "\n",
    "\n",
    "    no_courses = int(XYZ[0])\n",
    "    no_timeslots = int(XYZ[1])\n",
    "    population_len = no_courses * no_timeslots\n",
    "    no_iterations = 3\n",
    "    mutation_rate = 0.01\n",
    "\n",
    "    best_chromosome, best_fitness = genetic_algorithm(no_courses, no_timeslots, population_len, no_iterations, mutation_rate)\n",
    "    print(\"Best Schedule:\", best_chromosome)\n",
    "    print(\"Best Fitness:\", best_fitness)\n",
    "\n",
    "main_genetic_algorithm()\n"
   ]
  },
  {
   "cell_type": "markdown",
   "metadata": {
    "id": "ulcclEG-_kLh"
   },
   "source": [
    "**Task 02**"
   ]
  },
  {
   "cell_type": "code",
   "execution_count": 39,
   "metadata": {
    "id": "gevEEp33k2at"
   },
   "outputs": [],
   "source": [
    "def two_point_crossover(parent1, parent2):\n",
    "\n",
    "    p1 = random.randint(0, len(parent1) - 2)\n",
    "    p2 = random.randint(p1 + 1, len(parent1) - 1)\n",
    "\n",
    "    c1 = parent1[:p1] + parent2[p1:p2] + parent1[p2:]\n",
    "    c2 = parent2[:p1] + parent1[p1:p2] + parent2[p2:]\n",
    "\n",
    "    return c1, c2, p1, p2"
   ]
  },
  {
   "cell_type": "code",
   "execution_count": 40,
   "metadata": {
    "colab": {
     "base_uri": "https://localhost:8080/"
    },
    "id": "8zLT4Dpv_15F",
    "outputId": "d8049fc7-3b11-408d-e985-8aeab06905ce"
   },
   "outputs": [
    {
     "name": "stdout",
     "output_type": "stream",
     "text": [
      "Parent 1: 000111000\n",
      "Parent 2: 111000111\n",
      "Points: 0 4\n",
      "Child 1: 111011000\n",
      "Child 2: 000100111\n"
     ]
    }
   ],
   "source": [
    "def main_two_point_crossover():\n",
    "    parent1 = '000111000'\n",
    "    parent2 = '111000111'\n",
    "\n",
    "\n",
    "    child1, child2, point1, point2 = two_point_crossover(parent1, parent2)\n",
    "\n",
    "\n",
    "    print(\"Parent 1:\", parent1)\n",
    "    print(\"Parent 2:\", parent2)\n",
    "    print(\"Points:\", point1, point2)\n",
    "    print(\"Child 1:\", child1)\n",
    "    print(\"Child 2:\", child2)\n",
    "\n",
    "\n",
    "main_two_point_crossover()"
   ]
  }
 ],
 "metadata": {
  "colab": {
   "provenance": []
  },
  "kernelspec": {
   "display_name": "Python 3",
   "name": "python3"
  },
  "language_info": {
   "codemirror_mode": {
    "name": "ipython",
    "version": 3
   },
   "file_extension": ".py",
   "mimetype": "text/x-python",
   "name": "python",
   "nbconvert_exporter": "python",
   "pygments_lexer": "ipython3",
   "version": "3.11.0"
  }
 },
 "nbformat": 4,
 "nbformat_minor": 0
}
